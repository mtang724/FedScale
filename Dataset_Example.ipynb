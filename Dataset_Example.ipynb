{
 "cells": [
  {
   "cell_type": "code",
   "execution_count": 2,
   "id": "ae62ead3",
   "metadata": {},
   "outputs": [],
   "source": [
    "from torch.utils.data import DataLoader\n",
    "import matplotlib.pyplot as plt\n",
    "import numpy as np\n",
    "\n",
    "# Make sure you have downloaded and installed FedScale\n",
    "from fedscale.dataloaders.femnist import FEMNIST\n",
    "from fedscale.dataloaders.utils_data import get_data_transform\n",
    "from fedscale.dataloaders.divide_data import DataPartitioner\n",
    "from fedscale.cloud.config_parser import args"
   ]
  },
  {
   "cell_type": "code",
   "execution_count": 6,
   "id": "0edcd005",
   "metadata": {},
   "outputs": [],
   "source": [
    "train_transform, test_transform = get_data_transform('mnist')\n",
    "train_dataset = FEMNIST('./benchmark/dataset/data/femnist', dataset='train', transform=train_transform)\n",
    "test_dataset = FEMNIST('./benchmark/dataset/data/femnist', dataset='test', transform=test_transform)"
   ]
  },
  {
   "cell_type": "code",
   "execution_count": 7,
   "id": "7aef1327",
   "metadata": {},
   "outputs": [],
   "source": [
    "args.task = 'cv'\n",
    "training_sets = DataPartitioner(data=train_dataset, args=args, numOfClass=62)\n",
    "training_sets.partition_data_helper(num_clients=None, data_map_file='./benchmark/dataset/data/femnist/client_data_mapping/train.csv')\n",
    "#testing_sets = DataPartitioner(data=test_dataset, args=args, numOfClass=62, isTest=True)\n",
    "#testing_sets.partition_data_helper(num_clients=None, data_map_file='./benchmark/dataset/data/femnist/client_data_mapping/train.csv')"
   ]
  },
  {
   "cell_type": "code",
   "execution_count": 8,
   "id": "399ce180",
   "metadata": {},
   "outputs": [
    {
     "name": "stdout",
     "output_type": "stream",
     "text": [
      "Total number of data samples: 637877\n",
      "Total number of clients: 2800\n"
     ]
    }
   ],
   "source": [
    "print(f'Total number of data samples: {training_sets.getDataLen()}')\n",
    "print(f'Total number of clients: {training_sets.getClientLen()}')"
   ]
  },
  {
   "cell_type": "code",
   "execution_count": 9,
   "id": "a2cc2cf6",
   "metadata": {},
   "outputs": [
    {
     "data": {
      "image/png": "[encoded data removed]",
      "text/plain": [
       "<Figure size 432x288 with 2 Axes>"
      ]
     },
     "metadata": {
      "needs_background": "light"
     },
     "output_type": "display_data"
    }
   ],
   "source": [
    "fig, axs = plt.subplots(1, 2, sharey=True, tight_layout=True)\n",
    "size_dist = training_sets.getSize()['size']\n",
    "\n",
    "n_bins = 20\n",
    "axs[0].hist(size_dist, bins=n_bins)\n",
    "axs[0].set_title('Client data size distribution')\n",
    "\n",
    "label_dist = training_sets.getClientLabel()\n",
    "axs[1].hist(label_dist, bins=n_bins)\n",
    "axs[1].set_title('Client label distribution')\n",
    "\n",
    "plt.show()"
   ]
  },
  {
   "cell_type": "code",
   "execution_count": 10,
   "id": "b564f482",
   "metadata": {},
   "outputs": [],
   "source": [
    "rank=1\n",
    "isTest = False\n",
    "dropLast =  True\n",
    "partition = training_sets.use(rank - 1, isTest)\n",
    "num_loaders = min(int(len(partition)/ args.batch_size/2),  args.num_loaders)\n",
    "dataloader = DataLoader(partition, batch_size=16, shuffle=True, pin_memory=True, timeout=60, num_workers=num_loaders, drop_last=dropLast)"
   ]
  },
  {
   "cell_type": "code",
   "execution_count": 11,
   "id": "8b22c65a",
   "metadata": {},
   "outputs": [
    {
     "name": "stderr",
     "output_type": "stream",
     "text": [
      "WARNING:matplotlib.image:Clipping input data to the valid range for imshow with RGB data ([0..1] for floats or [0..255] for integers).\n"
     ]
    },
    {
     "data": {
      "image/png": "[encoded data removed]",
      "text/plain": [
       "<Figure size 432x288 with 1 Axes>"
      ]
     },
     "metadata": {
      "needs_background": "light"
     },
     "output_type": "display_data"
    }
   ],
   "source": [
    "for data in iter(dataloader):\n",
    "   plt.imshow(np.transpose(data[0][0].numpy(), (1, 2, 0)))\n",
    "   break"
   ]
  },
  {
   "cell_type": "code",
   "execution_count": 13,
   "id": "eb1c833a",
   "metadata": {},
   "outputs": [],
   "source": [
    "from torch.utils.data import DataLoader\n",
    "import matplotlib.pyplot as plt\n",
    "import numpy as np\n",
    "\n",
    "# Make sure you have downloaded and installed FedScale\n",
    "from fedscale.dataloaders.wisdm import WISDM\n",
    "from fedscale.dataloaders.pamap2 import PAMAP2\n",
    "from fedscale.dataloaders.utils_data import get_data_transform\n",
    "from fedscale.dataloaders.divide_data import DataPartitioner\n",
    "from fedscale.cloud.config_parser import args"
   ]
  },
  {
   "cell_type": "code",
   "execution_count": 14,
   "id": "fc8fc83d",
   "metadata": {},
   "outputs": [],
   "source": [
    "# train_transform, test_transform = get_data_transform('mnist')\n",
    "train_dataset = PAMAP2('./benchmark/dataset/data/PAMAP2', dataset='train')\n",
    "test_dataset = PAMAP2('./benchmark/dataset/data/PAMAP2', dataset='test')"
   ]
  },
  {
   "cell_type": "code",
   "execution_count": 15,
   "id": "340edf0f",
   "metadata": {},
   "outputs": [],
   "source": [
    "args.task = 'har'\n",
    "training_sets = DataPartitioner(data=train_dataset, args=args, numOfClass=25)\n",
    "training_sets.partition_data_helper(num_clients=None, data_map_file='./benchmark/dataset/data/PAMAP2/client_data_mapping/train.csv')"
   ]
  },
  {
   "cell_type": "code",
   "execution_count": 16,
   "id": "1cefd3bf",
   "metadata": {},
   "outputs": [
    {
     "name": "stdout",
     "output_type": "stream",
     "text": [
      "Total number of data samples: 23016\n",
      "Total number of clients: 9\n"
     ]
    }
   ],
   "source": [
    "print(f'Total number of data samples: {training_sets.getDataLen()}')\n",
    "print(f'Total number of clients: {training_sets.getClientLen()}')"
   ]
  },
  {
   "cell_type": "code",
   "execution_count": 17,
   "id": "59340eb1",
   "metadata": {},
   "outputs": [
    {
     "data": {
      "image/png": "[encoded data removed]",
      "text/plain": [
       "<Figure size 432x288 with 2 Axes>"
      ]
     },
     "metadata": {
      "needs_background": "light"
     },
     "output_type": "display_data"
    }
   ],
   "source": [
    "fig, axs = plt.subplots(1, 2, sharey=True, tight_layout=True)\n",
    "size_dist = training_sets.getSize()['size']\n",
    "\n",
    "n_bins = 20\n",
    "axs[0].hist(size_dist, bins=n_bins)\n",
    "axs[0].set_title('Client data size distribution')\n",
    "\n",
    "label_dist = training_sets.getClientLabel()\n",
    "axs[1].hist(label_dist, bins=n_bins)\n",
    "axs[1].set_title('Client label distribution')\n",
    "\n",
    "plt.show()"
   ]
  },
  {
   "cell_type": "code",
   "execution_count": 18,
   "id": "76d6b8d3",
   "metadata": {},
   "outputs": [],
   "source": [
    "rank=1\n",
    "isTest = False\n",
    "dropLast =  True\n",
    "partition = training_sets.use(rank - 1, isTest)\n",
    "num_loaders = min(int(len(partition)/ args.batch_size/2),  args.num_loaders)\n",
    "dataloader = DataLoader(partition, batch_size=16, shuffle=True, pin_memory=True, timeout=60, num_workers=num_loaders, drop_last=dropLast)"
   ]
  },
  {
   "cell_type": "code",
   "execution_count": 19,
   "id": "64a5b9be",
   "metadata": {},
   "outputs": [
    {
     "name": "stdout",
     "output_type": "stream",
     "text": [
      "tensor([ 4.0564e+03,  1.3900e+02,  3.0812e+01, -1.0194e+01, -1.5377e+00,\n",
      "         1.3243e+00, -1.0186e+01, -1.5789e+00,  1.4566e+00,  1.1448e-01,\n",
      "        -3.0940e-01, -5.9349e-01,  3.8254e+01, -1.9295e+01, -2.3803e+01,\n",
      "         6.9050e-01,  3.1234e-01, -3.3271e-01, -5.0672e-01,  3.4250e+01,\n",
      "         7.2580e-01,  9.8136e+00, -6.6801e-02,  5.2513e-01,  9.7869e+00,\n",
      "         2.9980e-01, -1.9403e-02,  6.3595e-02,  4.7673e-02, -1.8501e+01,\n",
      "        -2.9954e+01,  1.4411e+01,  3.2374e-01, -3.9865e-01, -5.2032e-01,\n",
      "        -6.7946e-01,  3.1812e+01,  1.2818e+01, -2.7048e+00, -3.7218e+00,\n",
      "         1.2732e+01, -2.6892e+00, -3.3716e+00,  1.7339e-01, -9.7776e-02,\n",
      "         4.1496e-02, -3.9075e+01,  1.3553e+01, -9.6230e+00,  5.9308e-01,\n",
      "         1.6577e-01,  7.6605e-01, -2.5562e-02])\n"
     ]
    }
   ],
   "source": [
    "for data in iter(dataloader):\n",
    "   print(data[0][0])\n",
    "   break"
   ]
  },
  {
   "cell_type": "code",
   "execution_count": null,
   "id": "ed13f79d",
   "metadata": {},
   "outputs": [],
   "source": []
  }
 ],
 "metadata": {
  "kernelspec": {
   "display_name": "Python 3",
   "language": "python",
   "name": "python3"
  },
  "language_info": {
   "codemirror_mode": {
    "name": "ipython",
    "version": 3
   },
   "file_extension": ".py",
   "mimetype": "text/x-python",
   "name": "python",
   "nbconvert_exporter": "python",
   "pygments_lexer": "ipython3",
   "version": "3.9.12"
  },
  "vscode": {
   "interpreter": {
    "hash": "31f2aee4e71d21fbe5cf8b01ff0e069b9275f58929596ceb00d14d90e3e16cd6"
   }
  }
 },
 "nbformat": 4,
 "nbformat_minor": 5
}
