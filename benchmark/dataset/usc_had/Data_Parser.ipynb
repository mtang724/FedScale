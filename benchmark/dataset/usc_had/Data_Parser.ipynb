{
 "cells": [
  {
   "cell_type": "code",
   "execution_count": 9,
   "id": "c0ea7741",
   "metadata": {},
   "outputs": [],
   "source": [
    "import scipy.io\n",
    "mat = scipy.io.loadmat('/Users/mtang/Documents/USC-HAD/Subject1/a2t1.mat')"
   ]
  },
  {
   "cell_type": "code",
   "execution_count": 10,
   "id": "acf313eb",
   "metadata": {},
   "outputs": [
    {
     "data": {
      "text/plain": [
       "{'__header__': b'MATLAB 5.0 MAT-file, Platform: PCWIN, Created on: Sun Oct 17 17:44:16 2010',\n",
       " '__version__': '1.0',\n",
       " '__globals__': [],\n",
       " 'title': array(['USC Human Motion Dataset'], dtype='<U24'),\n",
       " 'version': array(['1.0'], dtype='<U3'),\n",
       " 'date': array(['Oct-2010'], dtype='<U8'),\n",
       " 'subject': array(['1'], dtype='<U1'),\n",
       " 'age': array(['27'], dtype='<U2'),\n",
       " 'height': array(['164cm'], dtype='<U5'),\n",
       " 'weight': array(['43kg'], dtype='<U4'),\n",
       " 'activity': array(['walking-left'], dtype='<U12'),\n",
       " 'activity_number': array(['2'], dtype='<U1'),\n",
       " 'trial': array(['1'], dtype='<U1'),\n",
       " 'sensor_location': array(['front-right-hip'], dtype='<U15'),\n",
       " 'sensor_orientation': array(['x-gravity-y-walking-direction-z-vertical-to-walking-direction'],\n",
       "       dtype='<U61'),\n",
       " 'sensor_readings': array([[ 1.10440540e+00, -2.64260918e-02, -2.49291249e-02,\n",
       "         -3.31744919e+01, -1.05446825e+01,  5.40428429e+01],\n",
       "        [ 1.24519110e+00, -4.81409319e-02, -1.39486631e-02,\n",
       "         -3.43829880e+01, -1.17531786e+01,  4.80003624e+01],\n",
       "        [ 1.34820497e+00, -8.79514739e-02, -1.76088177e-02,\n",
       "         -3.59943161e+01, -1.05446825e+01,  2.82615948e+01],\n",
       "        ...,\n",
       "        [ 8.88076246e-01, -9.15706083e-02, -6.88509792e-02,\n",
       "         -2.43121872e+01, -7.32202625e+00, -2.41065693e+01],\n",
       "        [ 8.94943833e-01, -2.83385038e-01,  1.16724176e-02,\n",
       "         -1.70612106e+01, -6.91919422e+00, -1.20216093e+01],\n",
       "        [ 8.70907247e-01, -3.88340086e-01,  9.58559662e-02,\n",
       "          4.28888655e+00, -1.05446825e+01,  2.07751203e+00]])}"
      ]
     },
     "execution_count": 10,
     "metadata": {},
     "output_type": "execute_result"
    }
   ],
   "source": [
    "mat"
   ]
  },
  {
   "cell_type": "code",
   "execution_count": null,
   "id": "48666e26",
   "metadata": {},
   "outputs": [],
   "source": []
  }
 ],
 "metadata": {
  "kernelspec": {
   "display_name": "Python 3 (ipykernel)",
   "language": "python",
   "name": "python3"
  },
  "language_info": {
   "codemirror_mode": {
    "name": "ipython",
    "version": 3
   },
   "file_extension": ".py",
   "mimetype": "text/x-python",
   "name": "python",
   "nbconvert_exporter": "python",
   "pygments_lexer": "ipython3",
   "version": "3.9.7"
  }
 },
 "nbformat": 4,
 "nbformat_minor": 5
}
