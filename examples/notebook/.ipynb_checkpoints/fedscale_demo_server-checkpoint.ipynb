{
 "cells": [
  {
   "cell_type": "markdown",
   "id": "466d23de",
   "metadata": {},
   "source": [
    "# Federated Learning for Image Classification using Fedscale"
   ]
  },
  {
   "cell_type": "markdown",
   "id": "0421621a",
   "metadata": {},
   "source": [
    "## Server Side"
   ]
  },
  {
   "cell_type": "code",
   "execution_count": null,
   "id": "a1e48395",
   "metadata": {},
   "outputs": [
    {
     "name": "stderr",
     "output_type": "stream",
     "text": [
      "(10-06) 01:46:19 INFO     [aggregator.py:33] Job args Namespace(job_name='WISDM_demo', log_path='./', ps_ip='127.0.0.1', ps_port='29501', this_rank=1, connection_timeout=60, experiment_mode='simulation', engine='pytorch', num_executors=1, executor_configs='127.0.0.1:[1]', num_participants=10, data_map_file='/Users/mtang/Documents/FedScale/benchmark/dataset/data/WISDM/client_data_mapping/train.csv', use_cuda='False', cuda_device=None, time_stamp='logs', task='har', device_avail_file='/Users/mtang/Documents/FedScale/benchmark/dataset/data/device_info/client_behave_trace', clock_factor=1.1624548736462095, model_zoo='torchcv', data_dir='/Users/mtang/Documents/FedScale/benchmark/dataset/data/WISDM', device_conf_file='/Users/mtang/Documents/FedScale/benchmark/dataset/data/device_info/client_device_capacity', model='svm', data_set='WISDM', sample_mode='random', filter_less=32, filter_more=1000000000000000.0, train_uniform=False, conf_path='~/dataset/', overcommitment=1.3, model_size=65536, round_threshold=30, round_penalty=2.0, clip_bound=0.9, blacklist_rounds=-1, blacklist_max_len=0.3, embedding_file='glove.840B.300d.txt', rounds=1000, local_steps=20, batch_size=20, test_bsz=20, backend='gloo', upload_step=20, learning_rate=0.05, min_learning_rate=5e-05, input_dim=46, output_dim=0, dump_epoch=10000000000.0, decay_factor=0.98, decay_round=10, num_loaders=2, eval_interval=10, sample_seed=233, test_ratio=1.0, loss_decay=0.2, exploration_min=0.3, cut_off_util=0.05, gradient_policy=None, yogi_eta=0.003, yogi_tau=1e-08, yogi_beta=0.9, yogi_beta2=0.99, proxy_mu=0.1, cfg_file='./utils/rcnn/cfgs/res101.yml', test_output_dir='./logs/server', train_size_file='', test_size_file='', data_cache='', backbone='./resnet50.pth', malicious_factor=1000000000000000.0, max_concurrency=100, async_buffer=10, max_staleness=5, checkin_period=50, arrival_interval=3, async_mode=False, noise_factor=0.1, clip_threshold=3.0, target_delta=0.0001, pacer_delta=5, pacer_step=20, exploration_alpha=0.3, exploration_factor=0.9, exploration_decay=0.98, sample_window=5.0, line_by_line=False, clf_block_size=32, mlm=False, mlm_probability=0.15, overwrite_cache=False, block_size=64, weight_decay=0, adam_epsilon=1e-08, vocab_token_size=10000, vocab_tag_size=500, epsilon=0.9, gamma=0.9, memory_capacity=2000, target_replace_iter=15, n_actions=2, n_states=4, num_classes=6, train_manifest='data/train_manifest.csv', test_manifest='data/test_manifest.csv', sample_rate=16000, labels_path='labels.json', window_size=0.02, window_stride=0.01, window='hamming', hidden_size=256, hidden_layers=7, rnn_type='lstm', finetune=False, speed_volume_perturb=False, spec_augment=False, noise_dir=None, noise_prob=0.4, noise_min=0.0, noise_max=0.5, bidirectional=True, num_class=10)\n",
      "(10-06) 01:46:20 INFO     [aggregator.py:129] Initiating control plane communication ...\n",
      "(10-06) 01:46:20 INFO     [aggregator.py:153] %%%%%%%%%% Opening aggregator sever using port [::]:29501 %%%%%%%%%%\n",
      "(10-06) 01:46:20 INFO     [fllibs.py:119] Initializing the model ...\n"
     ]
    },
    {
     "name": "stdout",
     "output_type": "stream",
     "text": [
      "46\n"
     ]
    },
    {
     "name": "stderr",
     "output_type": "stream",
     "text": [
      "(10-06) 01:46:20 INFO     [aggregator.py:871] Start monitoring events ...\n"
     ]
    }
   ],
   "source": [
    "import sys, os\n",
    "\n",
    "from fedscale.core.execution.client import Client\n",
    "from fedscale.core.aggregation.aggregator import Aggregator\n",
    "# from fedscale.core.logger.execution import args\n",
    "import fedscale.core.config_parser as parser\n",
    "\n",
    "### On CPU\n",
    "parser.args.use_cuda = \"False\"\n",
    "parser.args.job_name = \"WISDM_demo\"\n",
    "parser.args.data_set = \"WISDM\"\n",
    "parser.args.task = \"har\"\n",
    "parser.args.data_dir = \"/Users/mtang/Documents/FedScale/benchmark/dataset/data/WISDM\"\n",
    "parser.args.data_map_file = \"/Users/mtang/Documents/FedScale/benchmark/dataset/data/WISDM/client_data_mapping/train.csv\"\n",
    "parser.args.device_conf_file = \"/Users/mtang/Documents/FedScale/benchmark/dataset/data/device_info/client_device_capacity\"\n",
    "parser.args.device_avail_file = \"/Users/mtang/Documents/FedScale/benchmark/dataset/data/device_info/client_behave_trace\"\n",
    "# parser.args.model_zoo = \"fedscale-zoo\"\n",
    "parser.args.eval_interval = 10\n",
    "parser.args.rounds = 1000\n",
    "parser.args.learning_rate = 0.05\n",
    "parser.args.batch_size = 2\n",
    "parser.args.num_classes = 6\n",
    "parser.args.input_dim = 46\n",
    "parser.args.model = \"svm\"\n",
    "parser.args.test_bsz = 20\n",
    "parser.args.num_participants = 10\n",
    "Demo_Aggregator = Aggregator(parser.args)\n",
    "Demo_Aggregator.run()"
   ]
  },
  {
   "cell_type": "code",
   "execution_count": null,
   "id": "c86247da",
   "metadata": {},
   "outputs": [],
   "source": [
    "!tensorboard --logdir=./logs/demo_job --port=6007 --bind_all"
   ]
  },
  {
   "cell_type": "code",
   "execution_count": null,
   "id": "56280a3e",
   "metadata": {},
   "outputs": [],
   "source": []
  }
 ],
 "metadata": {
  "kernelspec": {
   "display_name": "Python [conda env:root] *",
   "language": "python",
   "name": "conda-root-py"
  },
  "language_info": {
   "codemirror_mode": {
    "name": "ipython",
    "version": 3
   },
   "file_extension": ".py",
   "mimetype": "text/x-python",
   "name": "python",
   "nbconvert_exporter": "python",
   "pygments_lexer": "ipython3",
   "version": "3.9.7"
  }
 },
 "nbformat": 4,
 "nbformat_minor": 5
}
