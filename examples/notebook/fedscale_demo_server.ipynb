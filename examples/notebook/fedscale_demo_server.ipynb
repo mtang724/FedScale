{
 "cells": [
  {
   "cell_type": "markdown",
   "id": "466d23de",
   "metadata": {},
   "source": [
    "# Federated Learning for Image Classification using Fedscale"
   ]
  },
  {
   "cell_type": "markdown",
   "id": "0421621a",
   "metadata": {},
   "source": [
    "## Server Side"
   ]
  },
  {
   "cell_type": "code",
   "execution_count": null,
   "id": "a1e48395",
   "metadata": {},
   "outputs": [],
   "source": [
    "import sys, os\n",
    "\n",
    "from fedscale.core.execution.client import Client\n",
    "from fedscale.core.aggregation.aggregator import Aggregator\n",
    "# from fedscale.core.logger.execution import args\n",
    "import fedscale.core.config_parser as parser\n",
    "\n",
    "### On CPU\n",
    "parser.args.use_cuda = \"False\"\n",
    "parser.args.job_name = \"PAMAP2_demo\"\n",
    "parser.args.data_set = \"PAMAP2\"\n",
    "parser.args.task = \"har\"\n",
    "parser.args.data_dir = \"/Users/mtang/Documents/FedScale/benchmark/dataset/data/PAMAP2\"\n",
    "parser.args.data_map_file = \"/Users/mtang/Documents/FedScale/benchmark/dataset/data/PAMAP2/client_data_mapping/train.csv\"\n",
    "parser.args.device_conf_file = \"/Users/mtang/Documents/FedScale/benchmark/dataset/data/device_info/client_device_capacity\"\n",
    "parser.args.device_avail_file = \"/Users/mtang/Documents/FedScale/benchmark/dataset/data/device_info/client_behave_trace\"\n",
    "# parser.args.model_zoo = \"fedscale-zoo\"\n",
    "parser.args.eval_interval = 5\n",
    "parser.args.rounds = 20\n",
    "parser.args.learning_rate = 0.05\n",
    "parser.args.batch_size = 128\n",
    "parser.args.num_classes = 25\n",
    "parser.args.input_dim = 53\n",
    "parser.args.model = \"lr\"\n",
    "parser.args.test_bsz = 128\n",
    "parser.args.num_participants = 5\n",
    "parser.args.gradient_policy = \"FedAvg\"\n",
    "Demo_Aggregator = Aggregator(parser.args)\n",
    "Demo_Aggregator.run()"
   ]
  },
  {
   "cell_type": "code",
   "execution_count": null,
   "id": "c86247da",
   "metadata": {},
   "outputs": [],
   "source": [
    "!tensorboard --logdir=./logs/WISDM_demo --port=6007 --bind_all"
   ]
  },
  {
   "cell_type": "code",
   "execution_count": null,
   "id": "56280a3e",
   "metadata": {},
   "outputs": [],
   "source": []
  }
 ],
 "metadata": {
  "kernelspec": {
   "display_name": "Python [conda env:root] *",
   "language": "python",
   "name": "conda-root-py"
  },
  "language_info": {
   "codemirror_mode": {
    "name": "ipython",
    "version": 3
   },
   "file_extension": ".py",
   "mimetype": "text/x-python",
   "name": "python",
   "nbconvert_exporter": "python",
   "pygments_lexer": "ipython3",
   "version": "3.9.7"
  }
 },
 "nbformat": 4,
 "nbformat_minor": 5
}
