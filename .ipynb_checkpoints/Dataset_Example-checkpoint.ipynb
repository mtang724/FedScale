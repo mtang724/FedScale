{
 "cells": [
  {
   "cell_type": "code",
   "execution_count": 1,
   "id": "ae62ead3",
   "metadata": {},
   "outputs": [],
   "source": [
    "from torch.utils.data import DataLoader\n",
    "import matplotlib.pyplot as plt\n",
    "import numpy as np\n",
    "\n",
    "# Make sure you have downloaded and installed FedScale\n",
    "from fedscale.dataloaders.femnist import FEMNIST\n",
    "from fedscale.dataloaders.utils_data import get_data_transform\n",
    "from fedscale.dataloaders.divide_data import DataPartitioner\n",
    "from fedscale.core.config_parser import args"
   ]
  },
  {
   "cell_type": "code",
   "execution_count": 2,
   "id": "0edcd005",
   "metadata": {},
   "outputs": [],
   "source": [
    "train_transform, test_transform = get_data_transform('mnist')\n",
    "train_dataset = FEMNIST('./benchmark/dataset/data/femnist', dataset='train', transform=train_transform)\n",
    "test_dataset = FEMNIST('./benchmark/dataset/data/femnist', dataset='test', transform=test_transform)"
   ]
  },
  {
   "cell_type": "code",
   "execution_count": 3,
   "id": "7aef1327",
   "metadata": {},
   "outputs": [],
   "source": [
    "args.task = 'cv'\n",
    "training_sets = DataPartitioner(data=train_dataset, args=args, numOfClass=62)\n",
    "training_sets.partition_data_helper(num_clients=None, data_map_file='./benchmark/dataset/data/femnist/client_data_mapping/train.csv')\n",
    "#testing_sets = DataPartitioner(data=test_dataset, args=args, numOfClass=62, isTest=True)\n",
    "#testing_sets.partition_data_helper(num_clients=None, data_map_file='./benchmark/dataset/data/femnist/client_data_mapping/train.csv')"
   ]
  },
  {
   "cell_type": "code",
   "execution_count": 4,
   "id": "399ce180",
   "metadata": {},
   "outputs": [
    {
     "name": "stdout",
     "output_type": "stream",
     "text": [
      "Total number of data samples: 637877\n",
      "Total number of clients: 2800\n"
     ]
    }
   ],
   "source": [
    "print(f'Total number of data samples: {training_sets.getDataLen()}')\n",
    "print(f'Total number of clients: {training_sets.getClientLen()}')"
   ]
  },
  {
   "cell_type": "code",
   "execution_count": 5,
   "id": "a2cc2cf6",
   "metadata": {},
   "outputs": [
    {
     "data": {
      "image/png": "[encoded data removed]",
      "text/plain": [
       "<Figure size 432x288 with 2 Axes>"
      ]
     },
     "metadata": {
      "needs_background": "light"
     },
     "output_type": "display_data"
    }
   ],
   "source": [
    "fig, axs = plt.subplots(1, 2, sharey=True, tight_layout=True)\n",
    "size_dist = training_sets.getSize()['size']\n",
    "\n",
    "n_bins = 20\n",
    "axs[0].hist(size_dist, bins=n_bins)\n",
    "axs[0].set_title('Client data size distribution')\n",
    "\n",
    "label_dist = training_sets.getClientLabel()\n",
    "axs[1].hist(label_dist, bins=n_bins)\n",
    "axs[1].set_title('Client label distribution')\n",
    "\n",
    "plt.show()"
   ]
  },
  {
   "cell_type": "code",
   "execution_count": 6,
   "id": "b564f482",
   "metadata": {},
   "outputs": [],
   "source": [
    "rank=1\n",
    "isTest = False\n",
    "dropLast =  True\n",
    "partition = training_sets.use(rank - 1, isTest)\n",
    "num_loaders = min(int(len(partition)/ args.batch_size/2),  args.num_loaders)\n",
    "dataloader = DataLoader(partition, batch_size=16, shuffle=True, pin_memory=True, timeout=60, num_workers=num_loaders, drop_last=dropLast)"
   ]
  },
  {
   "cell_type": "code",
   "execution_count": 7,
   "id": "8b22c65a",
   "metadata": {},
   "outputs": [
    {
     "name": "stderr",
     "output_type": "stream",
     "text": [
      "WARNING:matplotlib.image:Clipping input data to the valid range for imshow with RGB data ([0..1] for floats or [0..255] for integers).\n"
     ]
    },
    {
     "data": {
      "image/png": "[encoded data removed]",
      "text/plain": [
       "<Figure size 432x288 with 1 Axes>"
      ]
     },
     "metadata": {
      "needs_background": "light"
     },
     "output_type": "display_data"
    }
   ],
   "source": [
    "for data in iter(dataloader):\n",
    "   plt.imshow(np.transpose(data[0][0].numpy(), (1, 2, 0)))\n",
    "   break"
   ]
  },
  {
   "cell_type": "code",
   "execution_count": 1,
   "id": "eb1c833a",
   "metadata": {},
   "outputs": [],
   "source": [
    "from torch.utils.data import DataLoader\n",
    "import matplotlib.pyplot as plt\n",
    "import numpy as np\n",
    "\n",
    "# Make sure you have downloaded and installed FedScale\n",
    "from fedscale.dataloaders.wisdm import WISDM\n",
    "from fedscale.dataloaders.pamap2 import PAMAP2\n",
    "from fedscale.dataloaders.utils_data import get_data_transform\n",
    "from fedscale.dataloaders.divide_data import DataPartitioner\n",
    "from fedscale.core.config_parser import args"
   ]
  },
  {
   "cell_type": "code",
   "execution_count": 2,
   "id": "fc8fc83d",
   "metadata": {},
   "outputs": [],
   "source": [
    "# train_transform, test_transform = get_data_transform('mnist')\n",
    "train_dataset = PAMAP2('./benchmark/dataset/data/PAMAP2', dataset='train')\n",
    "test_dataset = PAMAP2('./benchmark/dataset/data/PAMAP2', dataset='test')"
   ]
  },
  {
   "cell_type": "code",
   "execution_count": 8,
   "id": "340edf0f",
   "metadata": {},
   "outputs": [],
   "source": [
    "args.task = 'har'\n",
    "training_sets = DataPartitioner(data=train_dataset, args=args, numOfClass=25)\n",
    "training_sets.partition_data_helper(num_clients=None, data_map_file='./benchmark/dataset/data/PAMAP2/client_data_mapping/train.csv')"
   ]
  },
  {
   "cell_type": "code",
   "execution_count": 9,
   "id": "1cefd3bf",
   "metadata": {},
   "outputs": [
    {
     "name": "stdout",
     "output_type": "stream",
     "text": [
      "Total number of data samples: 23016\n",
      "Total number of clients: 9\n"
     ]
    }
   ],
   "source": [
    "print(f'Total number of data samples: {training_sets.getDataLen()}')\n",
    "print(f'Total number of clients: {training_sets.getClientLen()}')"
   ]
  },
  {
   "cell_type": "code",
   "execution_count": 10,
   "id": "59340eb1",
   "metadata": {},
   "outputs": [
    {
     "data": {
      "image/png": "[encoded data removed]",
      "text/plain": [
       "<Figure size 432x288 with 2 Axes>"
      ]
     },
     "metadata": {
      "needs_background": "light"
     },
     "output_type": "display_data"
    }
   ],
   "source": [
    "fig, axs = plt.subplots(1, 2, sharey=True, tight_layout=True)\n",
    "size_dist = training_sets.getSize()['size']\n",
    "\n",
    "n_bins = 20\n",
    "axs[0].hist(size_dist, bins=n_bins)\n",
    "axs[0].set_title('Client data size distribution')\n",
    "\n",
    "label_dist = training_sets.getClientLabel()\n",
    "axs[1].hist(label_dist, bins=n_bins)\n",
    "axs[1].set_title('Client label distribution')\n",
    "\n",
    "plt.show()"
   ]
  },
  {
   "cell_type": "code",
   "execution_count": 11,
   "id": "76d6b8d3",
   "metadata": {},
   "outputs": [],
   "source": [
    "rank=1\n",
    "isTest = False\n",
    "dropLast =  True\n",
    "partition = training_sets.use(rank - 1, isTest)\n",
    "num_loaders = min(int(len(partition)/ args.batch_size/2),  args.num_loaders)\n",
    "dataloader = DataLoader(partition, batch_size=16, shuffle=True, pin_memory=True, timeout=60, num_workers=num_loaders, drop_last=dropLast)"
   ]
  },
  {
   "cell_type": "code",
   "execution_count": 7,
   "id": "64a5b9be",
   "metadata": {},
   "outputs": [
    {
     "name": "stdout",
     "output_type": "stream",
     "text": [
      "tensor([ 2.5734e+03,  1.2300e+02,  3.2438e+01, -9.5862e+00, -1.6364e+00,\n",
      "         1.0047e+00, -9.4862e+00, -1.6840e+00,  1.2188e+00, -3.5480e-02,\n",
      "        -3.9672e-03, -4.2893e-03,  3.3920e+01,  1.5446e+01, -5.8184e+00,\n",
      "         4.6783e-01, -4.2641e-01, -4.9476e-01,  5.9541e-01,  3.7062e+01,\n",
      "        -2.5231e-01,  9.8050e+00, -1.3925e-01, -3.6467e-01,  9.8206e+00,\n",
      "         3.1528e-01, -1.7784e-02,  3.3965e-02, -9.8106e-03,  1.8499e+01,\n",
      "        -2.5908e+01, -1.5926e+00,  7.2332e-01, -6.8971e-01, -1.8026e-02,\n",
      "         2.7708e-02,  3.2750e+01,  9.4800e+00, -9.8760e-03, -3.1207e+00,\n",
      "         9.4812e+00,  4.4629e-02, -2.7374e+00,  1.0068e-02,  1.3417e-02,\n",
      "        -9.1533e-04, -2.1860e+01,  8.4908e+00,  2.4684e+01,  1.3533e-01,\n",
      "         7.8281e-01,  1.7824e-01,  5.8062e-01])\n"
     ]
    }
   ],
   "source": [
    "for data in iter(dataloader):\n",
    "   print(data[0][0])\n",
    "   break"
   ]
  },
  {
   "cell_type": "code",
   "execution_count": null,
   "id": "ed13f79d",
   "metadata": {},
   "outputs": [],
   "source": []
  }
 ],
 "metadata": {
  "kernelspec": {
   "display_name": "Python 3 (ipykernel)",
   "language": "python",
   "name": "python3"
  },
  "language_info": {
   "codemirror_mode": {
    "name": "ipython",
    "version": 3
   },
   "file_extension": ".py",
   "mimetype": "text/x-python",
   "name": "python",
   "nbconvert_exporter": "python",
   "pygments_lexer": "ipython3",
   "version": "3.9.7"
  }
 },
 "nbformat": 4,
 "nbformat_minor": 5
}
