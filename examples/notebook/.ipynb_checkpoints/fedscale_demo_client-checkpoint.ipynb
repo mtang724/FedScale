{
 "cells": [
  {
   "cell_type": "markdown",
   "id": "466d23de",
   "metadata": {},
   "source": [
    "# Federated Learning for Image Classification using Fedscale"
   ]
  },
  {
   "cell_type": "markdown",
   "id": "17da3fe2",
   "metadata": {},
   "source": [
    "## Client Side"
   ]
  },
  {
   "cell_type": "code",
   "execution_count": 1,
   "id": "40dc07a4",
   "metadata": {},
   "outputs": [
    {
     "name": "stderr",
     "output_type": "stream",
     "text": [
      "(01-24) 17:25:10 INFO     [executor.py:61] (EXECUTOR:1) is setting up environ ...\n"
     ]
    },
    {
     "ename": "FileNotFoundError",
     "evalue": "[Errno 2] No such file or directory: '/Users/mtang/Documents/FedScale/benchmark/dataset/data/UCI_HAR/client_data_mapping/train.csv'",
     "output_type": "error",
     "traceback": [
      "\u001b[0;31m---------------------------------------------------------------------------\u001b[0m",
      "\u001b[0;31mFileNotFoundError\u001b[0m                         Traceback (most recent call last)",
      "Cell \u001b[0;32mIn[1], line 32\u001b[0m\n\u001b[1;32m     30\u001b[0m parser\u001b[38;5;241m.\u001b[39margs\u001b[38;5;241m.\u001b[39mnum_participants \u001b[38;5;241m=\u001b[39m \u001b[38;5;241m5\u001b[39m\n\u001b[1;32m     31\u001b[0m Demo_Executor \u001b[38;5;241m=\u001b[39m Executor(parser\u001b[38;5;241m.\u001b[39margs)\n\u001b[0;32m---> 32\u001b[0m \u001b[43mDemo_Executor\u001b[49m\u001b[38;5;241;43m.\u001b[39;49m\u001b[43mrun\u001b[49m\u001b[43m(\u001b[49m\u001b[43m)\u001b[49m\n",
      "File \u001b[0;32m~/Documents/FedScale/fedscale/cloud/execution/executor.py:141\u001b[0m, in \u001b[0;36mExecutor.run\u001b[0;34m(self)\u001b[0m\n\u001b[1;32m    138\u001b[0m \u001b[38;5;250m\u001b[39m\u001b[38;5;124;03m\"\"\"Start running the executor by setting up execution and communication environment, and monitoring the grpc message.\u001b[39;00m\n\u001b[1;32m    139\u001b[0m \u001b[38;5;124;03m\"\"\"\u001b[39;00m\n\u001b[1;32m    140\u001b[0m \u001b[38;5;28mself\u001b[39m\u001b[38;5;241m.\u001b[39msetup_env()\n\u001b[0;32m--> 141\u001b[0m \u001b[38;5;28mself\u001b[39m\u001b[38;5;241m.\u001b[39mtraining_sets, \u001b[38;5;28mself\u001b[39m\u001b[38;5;241m.\u001b[39mtesting_sets \u001b[38;5;241m=\u001b[39m \u001b[38;5;28;43mself\u001b[39;49m\u001b[38;5;241;43m.\u001b[39;49m\u001b[43minit_data\u001b[49m\u001b[43m(\u001b[49m\u001b[43m)\u001b[49m\n\u001b[1;32m    142\u001b[0m \u001b[38;5;28mself\u001b[39m\u001b[38;5;241m.\u001b[39msetup_communication()\n\u001b[1;32m    143\u001b[0m \u001b[38;5;28mself\u001b[39m\u001b[38;5;241m.\u001b[39mevent_monitor()\n",
      "File \u001b[0;32m~/Documents/FedScale/fedscale/cloud/execution/executor.py:113\u001b[0m, in \u001b[0;36mExecutor.init_data\u001b[0;34m(self)\u001b[0m\n\u001b[1;32m    106\u001b[0m \u001b[38;5;28;01mdef\u001b[39;00m \u001b[38;5;21minit_data\u001b[39m(\u001b[38;5;28mself\u001b[39m):\n\u001b[1;32m    107\u001b[0m \u001b[38;5;250m    \u001b[39m\u001b[38;5;124;03m\"\"\"Return the training and testing dataset\u001b[39;00m\n\u001b[1;32m    108\u001b[0m \n\u001b[1;32m    109\u001b[0m \u001b[38;5;124;03m    Returns:\u001b[39;00m\n\u001b[1;32m    110\u001b[0m \u001b[38;5;124;03m        Tuple of DataPartitioner class: The partioned dataset class for training and testing\u001b[39;00m\n\u001b[1;32m    111\u001b[0m \n\u001b[1;32m    112\u001b[0m \u001b[38;5;124;03m    \"\"\"\u001b[39;00m\n\u001b[0;32m--> 113\u001b[0m     train_dataset, test_dataset \u001b[38;5;241m=\u001b[39m \u001b[43minit_dataset\u001b[49m\u001b[43m(\u001b[49m\u001b[43m)\u001b[49m\n\u001b[1;32m    114\u001b[0m     \u001b[38;5;28;01mif\u001b[39;00m \u001b[38;5;28mself\u001b[39m\u001b[38;5;241m.\u001b[39mtask \u001b[38;5;241m==\u001b[39m \u001b[38;5;124m\"\u001b[39m\u001b[38;5;124mrl\u001b[39m\u001b[38;5;124m\"\u001b[39m:\n\u001b[1;32m    115\u001b[0m         \u001b[38;5;28;01mreturn\u001b[39;00m train_dataset, test_dataset\n",
      "File \u001b[0;32m~/Documents/FedScale/fedscale/cloud/fllibs.py:413\u001b[0m, in \u001b[0;36minit_dataset\u001b[0;34m()\u001b[0m\n\u001b[1;32m    410\u001b[0m \u001b[38;5;28;01melif\u001b[39;00m parser\u001b[38;5;241m.\u001b[39margs\u001b[38;5;241m.\u001b[39mdata_set\u001b[38;5;241m.\u001b[39mstartswith(\u001b[38;5;124m'\u001b[39m\u001b[38;5;124mUCI_HAR\u001b[39m\u001b[38;5;124m'\u001b[39m):\n\u001b[1;32m    411\u001b[0m     \u001b[38;5;28;01mfrom\u001b[39;00m \u001b[38;5;21;01mfedscale\u001b[39;00m\u001b[38;5;21;01m.\u001b[39;00m\u001b[38;5;21;01mdataloaders\u001b[39;00m\u001b[38;5;21;01m.\u001b[39;00m\u001b[38;5;21;01muci_har\u001b[39;00m \u001b[38;5;28;01mimport\u001b[39;00m UCI_HAR\n\u001b[0;32m--> 413\u001b[0m     train_dataset \u001b[38;5;241m=\u001b[39m \u001b[43mUCI_HAR\u001b[49m\u001b[43m(\u001b[49m\n\u001b[1;32m    414\u001b[0m \u001b[43m        \u001b[49m\u001b[43mparser\u001b[49m\u001b[38;5;241;43m.\u001b[39;49m\u001b[43margs\u001b[49m\u001b[38;5;241;43m.\u001b[39;49m\u001b[43mdata_dir\u001b[49m\u001b[43m,\u001b[49m\u001b[43m \u001b[49m\u001b[43mdataset\u001b[49m\u001b[38;5;241;43m=\u001b[39;49m\u001b[38;5;124;43m'\u001b[39;49m\u001b[38;5;124;43mtrain\u001b[39;49m\u001b[38;5;124;43m'\u001b[39;49m\u001b[43m)\u001b[49m\n\u001b[1;32m    415\u001b[0m     test_dataset \u001b[38;5;241m=\u001b[39m UCI_HAR(\n\u001b[1;32m    416\u001b[0m         parser\u001b[38;5;241m.\u001b[39margs\u001b[38;5;241m.\u001b[39mdata_dir, dataset\u001b[38;5;241m=\u001b[39m\u001b[38;5;124m'\u001b[39m\u001b[38;5;124mtest\u001b[39m\u001b[38;5;124m'\u001b[39m)\n\u001b[1;32m    417\u001b[0m \u001b[38;5;28;01melse\u001b[39;00m:\n",
      "File \u001b[0;32m~/Documents/FedScale/fedscale/dataloaders/uci_har.py:17\u001b[0m, in \u001b[0;36mUCI_HAR.__init__\u001b[0;34m(self, root, dataset)\u001b[0m\n\u001b[1;32m     14\u001b[0m \u001b[38;5;28mself\u001b[39m\u001b[38;5;241m.\u001b[39mpath \u001b[38;5;241m=\u001b[39m os\u001b[38;5;241m.\u001b[39mpath\u001b[38;5;241m.\u001b[39mjoin(\u001b[38;5;28mself\u001b[39m\u001b[38;5;241m.\u001b[39mprocessed_folder, \u001b[38;5;28mself\u001b[39m\u001b[38;5;241m.\u001b[39mdata_file)\n\u001b[1;32m     16\u001b[0m \u001b[38;5;66;03m# load data and targets\u001b[39;00m\n\u001b[0;32m---> 17\u001b[0m \u001b[38;5;28mself\u001b[39m\u001b[38;5;241m.\u001b[39mdata, \u001b[38;5;28mself\u001b[39m\u001b[38;5;241m.\u001b[39mtargets \u001b[38;5;241m=\u001b[39m \u001b[38;5;28;43mself\u001b[39;49m\u001b[38;5;241;43m.\u001b[39;49m\u001b[43mload_file\u001b[49m\u001b[43m(\u001b[49m\u001b[38;5;28;43mself\u001b[39;49m\u001b[38;5;241;43m.\u001b[39;49m\u001b[43mpath\u001b[49m\u001b[43m)\u001b[49m\n",
      "File \u001b[0;32m~/Documents/FedScale/fedscale/dataloaders/uci_har.py:63\u001b[0m, in \u001b[0;36mUCI_HAR.load_file\u001b[0;34m(self, path)\u001b[0m\n\u001b[1;32m     61\u001b[0m \u001b[38;5;28;01mdef\u001b[39;00m \u001b[38;5;21mload_file\u001b[39m(\u001b[38;5;28mself\u001b[39m, path):\n\u001b[0;32m---> 63\u001b[0m     datas, labels \u001b[38;5;241m=\u001b[39m \u001b[38;5;28;43mself\u001b[39;49m\u001b[38;5;241;43m.\u001b[39;49m\u001b[43mload_meta_data\u001b[49m\u001b[43m(\u001b[49m\u001b[43mos\u001b[49m\u001b[38;5;241;43m.\u001b[39;49m\u001b[43mpath\u001b[49m\u001b[38;5;241;43m.\u001b[39;49m\u001b[43mjoin\u001b[49m\u001b[43m(\u001b[49m\n\u001b[1;32m     64\u001b[0m \u001b[43m        \u001b[49m\u001b[38;5;28;43mself\u001b[39;49m\u001b[38;5;241;43m.\u001b[39;49m\u001b[43mprocessed_folder\u001b[49m\u001b[43m,\u001b[49m\u001b[43m \u001b[49m\u001b[38;5;124;43m'\u001b[39;49m\u001b[38;5;124;43mclient_data_mapping\u001b[39;49m\u001b[38;5;124;43m'\u001b[39;49m\u001b[43m,\u001b[49m\u001b[43m \u001b[49m\u001b[38;5;28;43mself\u001b[39;49m\u001b[38;5;241;43m.\u001b[39;49m\u001b[43mdata_file\u001b[49m\u001b[43m \u001b[49m\u001b[38;5;241;43m+\u001b[39;49m\u001b[43m \u001b[49m\u001b[38;5;124;43m'\u001b[39;49m\u001b[38;5;124;43m.csv\u001b[39;49m\u001b[38;5;124;43m'\u001b[39;49m\u001b[43m)\u001b[49m\u001b[43m)\u001b[49m\n\u001b[1;32m     66\u001b[0m     \u001b[38;5;28;01mreturn\u001b[39;00m datas, labels\n",
      "File \u001b[0;32m~/Documents/FedScale/fedscale/dataloaders/uci_har.py:48\u001b[0m, in \u001b[0;36mUCI_HAR.load_meta_data\u001b[0;34m(self, path)\u001b[0m\n\u001b[1;32m     45\u001b[0m \u001b[38;5;28;01mdef\u001b[39;00m \u001b[38;5;21mload_meta_data\u001b[39m(\u001b[38;5;28mself\u001b[39m, path):\n\u001b[1;32m     46\u001b[0m     datas, labels \u001b[38;5;241m=\u001b[39m [], []\n\u001b[0;32m---> 48\u001b[0m     \u001b[38;5;28;01mwith\u001b[39;00m \u001b[38;5;28;43mopen\u001b[39;49m\u001b[43m(\u001b[49m\u001b[43mpath\u001b[49m\u001b[43m)\u001b[49m \u001b[38;5;28;01mas\u001b[39;00m csv_file:\n\u001b[1;32m     49\u001b[0m         csv_reader \u001b[38;5;241m=\u001b[39m csv\u001b[38;5;241m.\u001b[39mreader(csv_file, delimiter\u001b[38;5;241m=\u001b[39m\u001b[38;5;124m\"\u001b[39m\u001b[38;5;124m,\u001b[39m\u001b[38;5;124m\"\u001b[39m)\n\u001b[1;32m     50\u001b[0m         line_count \u001b[38;5;241m=\u001b[39m \u001b[38;5;241m0\u001b[39m\n",
      "\u001b[0;31mFileNotFoundError\u001b[0m: [Errno 2] No such file or directory: '/Users/mtang/Documents/FedScale/benchmark/dataset/data/UCI_HAR/client_data_mapping/train.csv'"
     ]
    }
   ],
   "source": [
    "import torch\n",
    "import logging\n",
    "import math\n",
    "from torch.autograd import Variable\n",
    "import numpy as np\n",
    "\n",
    "import sys, os\n",
    "\n",
    "import fedscale.cloud.config_parser as parser\n",
    "from fedscale.cloud.execution.client import Client\n",
    "from fedscale.cloud.execution.executor import Executor\n",
    "### On CPU\n",
    "parser.args.use_cuda = \"False\"\n",
    "parser.args.job_name = \"UCI_HAR_demo\"\n",
    "parser.args.data_set = \"UCI_HAR\"\n",
    "parser.args.task = \"har\"\n",
    "parser.args.data_dir = \"../../benchmark/dataset/data/UCI_HAR\"\n",
    "parser.args.data_map_file = \"../../benchmark/dataset/data/UCI_HAR/client_data_mapping/train.csv\"\n",
    "parser.args.device_conf_file = \"../../benchmark/benchmark/dataset/data/device_info/client_device_capacity\"\n",
    "parser.args.device_avail_file = \"../../benchmark/dataset/data/device_info/client_behave_trace\"\n",
    "# parser.args.model_zoo = \"fedscale-zoo\"\n",
    "parser.args.eval_interval = 5\n",
    "parser.args.rounds = 20\n",
    "parser.args.learning_rate = 0.05\n",
    "parser.args.batch_size = 64\n",
    "parser.args.num_classes = 7\n",
    "parser.args.input_dim = 561\n",
    "parser.args.model = \"lr\"\n",
    "parser.args.test_bsz = 64\n",
    "parser.args.num_participants = 5\n",
    "Demo_Executor = Executor(parser.args)\n",
    "Demo_Executor.run()"
   ]
  },
  {
   "cell_type": "code",
   "execution_count": null,
   "id": "096b2191",
   "metadata": {},
   "outputs": [],
   "source": []
  }
 ],
 "metadata": {
  "kernelspec": {
   "display_name": "Python 3",
   "language": "python",
   "name": "python3"
  },
  "language_info": {
   "codemirror_mode": {
    "name": "ipython",
    "version": 3
   },
   "file_extension": ".py",
   "mimetype": "text/x-python",
   "name": "python",
   "nbconvert_exporter": "python",
   "pygments_lexer": "ipython3",
   "version": "3.9.12"
  }
 },
 "nbformat": 4,
 "nbformat_minor": 5
}
