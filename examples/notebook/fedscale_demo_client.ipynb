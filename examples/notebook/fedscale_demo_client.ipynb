{
 "cells": [
  {
   "cell_type": "markdown",
   "id": "466d23de",
   "metadata": {},
   "source": [
    "# Federated Learning for Image Classification using Fedscale"
   ]
  },
  {
   "cell_type": "markdown",
   "id": "17da3fe2",
   "metadata": {},
   "source": [
    "## Client Side"
   ]
  },
  {
   "cell_type": "code",
   "execution_count": null,
   "id": "40dc07a4",
   "metadata": {},
   "outputs": [
    {
     "name": "stderr",
     "output_type": "stream",
     "text": [
      "(10-13) 00:41:03 INFO     [executor.py:61] (EXECUTOR:1) is setting up environ ...\n",
      "(10-13) 00:41:07 INFO     [executor.py:117] Data partitioner starts ...\n",
      "(10-13) 00:41:07 INFO     [divide_data.py:63] Partitioning data by profile /Users/mtang/Documents/FedScale/benchmark/dataset/data/MHEALTH/client_data_mapping/train.csv...\n",
      "(10-13) 00:41:07 INFO     [divide_data.py:75] Trace names are client_Id, chest_acc_x, chest_acc_y, chest_acc_z, ecg_1, ecg_2, left_ankle_acc_x, left_ankle_acc_y, left_ankle_acc_z, left_ankle_gyro_x, left_ankle_gyro_y, left_ankle_gyro_z, left_ankle_mag_x, left_ankle_mag_y, left_ankle_mag_z, right_arm_acc_x, right_arm_acc_y, right_arm_acc_z, right_arm_gyro_x, right_arm_gyro_y, right_arm_gyro_z, right_arm_mag_x, right_arm_mag_y, right_arm_mag_z, label_Id\n",
      "(10-13) 00:41:07 INFO     [divide_data.py:106] Randomly partitioning data, 24333 samples...\n",
      "(10-13) 00:41:07 INFO     [executor.py:128] Data partitioner completes ...\n",
      "(10-13) 00:41:07 INFO     [channel_context.py:20] %%%%%%%%%% Opening grpc connection to 127.0.0.1 %%%%%%%%%%\n",
      "(10-13) 00:41:07 INFO     [executor.py:414] Start monitoring events ...\n",
      "(10-13) 00:41:09 INFO     [model_test_module.py:305] Rank 1: Test set: Average loss: 12.2564, Top-1 Accuracy: 608.0/24333 (0.025), Top-5 Accuracy: 0.2711\n",
      "(10-13) 00:41:09 INFO     [executor.py:375] After aggregation round 1, CumulTime 6.2927, eval_time 0.0998, test_loss 12.2564, test_accuracy 2.50%, test_5_accuracy 27.11% \n",
      "\n",
      "(10-13) 00:41:11 INFO     [client.py:32] Start to train (CLIENT: 5) ...\n",
      "(10-13) 00:41:28 INFO     [client.py:67] Training of (CLIENT: 5) completes, {'clientId': 5, 'moving_loss': 63.87470725114234, 'trained_size': 200, 'success': True}\n",
      "(10-13) 00:41:28 INFO     [client.py:32] Start to train (CLIENT: 10) ...\n",
      "(10-13) 00:41:43 INFO     [client.py:67] Training of (CLIENT: 10) completes, {'clientId': 10, 'moving_loss': 77.80920961856137, 'trained_size': 200, 'success': True}\n",
      "(10-13) 00:41:43 INFO     [client.py:32] Start to train (CLIENT: 6) ...\n",
      "(10-13) 00:41:57 INFO     [client.py:67] Training of (CLIENT: 6) completes, {'clientId': 6, 'moving_loss': 45.19897926476702, 'trained_size': 200, 'success': True}\n",
      "(10-13) 00:41:57 INFO     [client.py:32] Start to train (CLIENT: 4) ...\n"
     ]
    }
   ],
   "source": [
    "import torch\n",
    "import logging\n",
    "import math\n",
    "from torch.autograd import Variable\n",
    "import numpy as np\n",
    "\n",
    "import sys, os\n",
    "\n",
    "from fedscale.core.execution.client import Client\n",
    "from fedscale.core.execution.executor import Executor\n",
    "import fedscale.core.config_parser as parser\n",
    "\n",
    "### On CPU\n",
    "parser.args.use_cuda = \"False\"\n",
    "parser.args.job_name = \"MHEALTH_demo\"\n",
    "parser.args.data_set = \"MHEALTH\"\n",
    "parser.args.task = \"har\"\n",
    "parser.args.data_dir = \"/Users/mtang/Documents/FedScale/benchmark/dataset/data/MHEALTH\"\n",
    "parser.args.data_map_file = \"/Users/mtang/Documents/FedScale/benchmark/dataset/data/MHEALTH/client_data_mapping/train.csv\"\n",
    "parser.args.device_conf_file = \"/Users/mtang/Documents/FedScale/benchmark/dataset/data/device_info/client_device_capacity\"\n",
    "parser.args.device_avail_file = \"/Users/mtang/Documents/FedScale/benchmark/dataset/data/device_info/client_behave_trace\"\n",
    "# parser.args.model_zoo = \"fedscale-zoo\"\n",
    "parser.args.eval_interval = 5\n",
    "parser.args.rounds = 1000\n",
    "parser.args.learning_rate = 0.05\n",
    "parser.args.batch_size = 10\n",
    "parser.args.num_classes = 13\n",
    "parser.args.input_dim = 22\n",
    "parser.args.model = \"lr\"\n",
    "# parser.args.test_bsz = 20\n",
    "# parser.args.num_participants = 10\n",
    "parser.args.eval_interval = 1\n",
    "Demo_Executor = Executor(parser.args)\n",
    "Demo_Executor.run()"
   ]
  },
  {
   "cell_type": "code",
   "execution_count": null,
   "id": "096b2191",
   "metadata": {},
   "outputs": [],
   "source": []
  }
 ],
 "metadata": {
  "kernelspec": {
   "display_name": "Python [conda env:root] *",
   "language": "python",
   "name": "conda-root-py"
  },
  "language_info": {
   "codemirror_mode": {
    "name": "ipython",
    "version": 3
   },
   "file_extension": ".py",
   "mimetype": "text/x-python",
   "name": "python",
   "nbconvert_exporter": "python",
   "pygments_lexer": "ipython3",
   "version": "3.9.7"
  }
 },
 "nbformat": 4,
 "nbformat_minor": 5
}
