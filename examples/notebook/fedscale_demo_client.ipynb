{
 "cells": [
  {
   "cell_type": "markdown",
   "id": "466d23de",
   "metadata": {},
   "source": [
    "# Federated Learning for Image Classification using Fedscale"
   ]
  },
  {
   "cell_type": "markdown",
   "id": "17da3fe2",
   "metadata": {},
   "source": [
    "## Client Side"
   ]
  },
  {
   "cell_type": "code",
   "execution_count": null,
   "id": "40dc07a4",
   "metadata": {},
   "outputs": [
    {
     "name": "stderr",
     "output_type": "stream",
     "text": [
      "(01-24) 17:33:00 INFO     [executor.py:61] (EXECUTOR:1) is setting up environ ...\n",
      "(01-24) 17:33:02 INFO     [executor.py:117] Data partitioner starts ...\n",
      "(01-24) 17:33:02 INFO     [divide_data.py:63] Partitioning data by profile ../../benchmark/dataset/data/UCI_HAR/client_data_mapping/train.csv...\n",
      "(01-24) 17:33:02 INFO     [divide_data.py:75] Trace names are client_Id, tBodyAccmeanX, tBodyAccmeanY, tBodyAccmeanZ, tBodyAccstdX, tBodyAccstdY, tBodyAccstdZ, tBodyAccmadX, tBodyAccmadY, tBodyAccmadZ, tBodyAccmaxX, tBodyAccmaxY, tBodyAccmaxZ, tBodyAccminX, tBodyAccminY, tBodyAccminZ, tBodyAccsma, tBodyAccenergyX, tBodyAccenergyY, tBodyAccenergyZ, tBodyAcciqrX, tBodyAcciqrY, tBodyAcciqrZ, tBodyAccentropyX, tBodyAccentropyY, tBodyAccentropyZ, tBodyAccarCoeffX1, tBodyAccarCoeffX2, tBodyAccarCoeffX3, tBodyAccarCoeffX4, tBodyAccarCoeffY1, tBodyAccarCoeffY2, tBodyAccarCoeffY3, tBodyAccarCoeffY4, tBodyAccarCoeffZ1, tBodyAccarCoeffZ2, tBodyAccarCoeffZ3, tBodyAccarCoeffZ4, tBodyAcccorrelationXY, tBodyAcccorrelationXZ, tBodyAcccorrelationYZ, tGravityAccmeanX, tGravityAccmeanY, tGravityAccmeanZ, tGravityAccstdX, tGravityAccstdY, tGravityAccstdZ, tGravityAccmadX, tGravityAccmadY, tGravityAccmadZ, tGravityAccmaxX, tGravityAccmaxY, tGravityAccmaxZ, tGravityAccminX, tGravityAccminY, tGravityAccminZ, tGravityAccsma, tGravityAccenergyX, tGravityAccenergyY, tGravityAccenergyZ, tGravityAcciqrX, tGravityAcciqrY, tGravityAcciqrZ, tGravityAccentropyX, tGravityAccentropyY, tGravityAccentropyZ, tGravityAccarCoeffX1, tGravityAccarCoeffX2, tGravityAccarCoeffX3, tGravityAccarCoeffX4, tGravityAccarCoeffY1, tGravityAccarCoeffY2, tGravityAccarCoeffY3, tGravityAccarCoeffY4, tGravityAccarCoeffZ1, tGravityAccarCoeffZ2, tGravityAccarCoeffZ3, tGravityAccarCoeffZ4, tGravityAcccorrelationXY, tGravityAcccorrelationXZ, tGravityAcccorrelationYZ, tBodyAccJerkmeanX, tBodyAccJerkmeanY, tBodyAccJerkmeanZ, tBodyAccJerkstdX, tBodyAccJerkstdY, tBodyAccJerkstdZ, tBodyAccJerkmadX, tBodyAccJerkmadY, tBodyAccJerkmadZ, tBodyAccJerkmaxX, tBodyAccJerkmaxY, tBodyAccJerkmaxZ, tBodyAccJerkminX, tBodyAccJerkminY, tBodyAccJerkminZ, tBodyAccJerksma, tBodyAccJerkenergyX, tBodyAccJerkenergyY, tBodyAccJerkenergyZ, tBodyAccJerkiqrX, tBodyAccJerkiqrY, tBodyAccJerkiqrZ, tBodyAccJerkentropyX, tBodyAccJerkentropyY, tBodyAccJerkentropyZ, tBodyAccJerkarCoeffX1, tBodyAccJerkarCoeffX2, tBodyAccJerkarCoeffX3, tBodyAccJerkarCoeffX4, tBodyAccJerkarCoeffY1, tBodyAccJerkarCoeffY2, tBodyAccJerkarCoeffY3, tBodyAccJerkarCoeffY4, tBodyAccJerkarCoeffZ1, tBodyAccJerkarCoeffZ2, tBodyAccJerkarCoeffZ3, tBodyAccJerkarCoeffZ4, tBodyAccJerkcorrelationXY, tBodyAccJerkcorrelationXZ, tBodyAccJerkcorrelationYZ, tBodyGyromeanX, tBodyGyromeanY, tBodyGyromeanZ, tBodyGyrostdX, tBodyGyrostdY, tBodyGyrostdZ, tBodyGyromadX, tBodyGyromadY, tBodyGyromadZ, tBodyGyromaxX, tBodyGyromaxY, tBodyGyromaxZ, tBodyGyrominX, tBodyGyrominY, tBodyGyrominZ, tBodyGyrosma, tBodyGyroenergyX, tBodyGyroenergyY, tBodyGyroenergyZ, tBodyGyroiqrX, tBodyGyroiqrY, tBodyGyroiqrZ, tBodyGyroentropyX, tBodyGyroentropyY, tBodyGyroentropyZ, tBodyGyroarCoeffX1, tBodyGyroarCoeffX2, tBodyGyroarCoeffX3, tBodyGyroarCoeffX4, tBodyGyroarCoeffY1, tBodyGyroarCoeffY2, tBodyGyroarCoeffY3, tBodyGyroarCoeffY4, tBodyGyroarCoeffZ1, tBodyGyroarCoeffZ2, tBodyGyroarCoeffZ3, tBodyGyroarCoeffZ4, tBodyGyrocorrelationXY, tBodyGyrocorrelationXZ, tBodyGyrocorrelationYZ, tBodyGyroJerkmeanX, tBodyGyroJerkmeanY, tBodyGyroJerkmeanZ, tBodyGyroJerkstdX, tBodyGyroJerkstdY, tBodyGyroJerkstdZ, tBodyGyroJerkmadX, tBodyGyroJerkmadY, tBodyGyroJerkmadZ, tBodyGyroJerkmaxX, tBodyGyroJerkmaxY, tBodyGyroJerkmaxZ, tBodyGyroJerkminX, tBodyGyroJerkminY, tBodyGyroJerkminZ, tBodyGyroJerksma, tBodyGyroJerkenergyX, tBodyGyroJerkenergyY, tBodyGyroJerkenergyZ, tBodyGyroJerkiqrX, tBodyGyroJerkiqrY, tBodyGyroJerkiqrZ, tBodyGyroJerkentropyX, tBodyGyroJerkentropyY, tBodyGyroJerkentropyZ, tBodyGyroJerkarCoeffX1, tBodyGyroJerkarCoeffX2, tBodyGyroJerkarCoeffX3, tBodyGyroJerkarCoeffX4, tBodyGyroJerkarCoeffY1, tBodyGyroJerkarCoeffY2, tBodyGyroJerkarCoeffY3, tBodyGyroJerkarCoeffY4, tBodyGyroJerkarCoeffZ1, tBodyGyroJerkarCoeffZ2, tBodyGyroJerkarCoeffZ3, tBodyGyroJerkarCoeffZ4, tBodyGyroJerkcorrelationXY, tBodyGyroJerkcorrelationXZ, tBodyGyroJerkcorrelationYZ, tBodyAccMagmean, tBodyAccMagstd, tBodyAccMagmad, tBodyAccMagmax, tBodyAccMagmin, tBodyAccMagsma, tBodyAccMagenergy, tBodyAccMagiqr, tBodyAccMagentropy, tBodyAccMagarCoeff1, tBodyAccMagarCoeff2, tBodyAccMagarCoeff3, tBodyAccMagarCoeff4, tGravityAccMagmean, tGravityAccMagstd, tGravityAccMagmad, tGravityAccMagmax, tGravityAccMagmin, tGravityAccMagsma, tGravityAccMagenergy, tGravityAccMagiqr, tGravityAccMagentropy, tGravityAccMagarCoeff1, tGravityAccMagarCoeff2, tGravityAccMagarCoeff3, tGravityAccMagarCoeff4, tBodyAccJerkMagmean, tBodyAccJerkMagstd, tBodyAccJerkMagmad, tBodyAccJerkMagmax, tBodyAccJerkMagmin, tBodyAccJerkMagsma, tBodyAccJerkMagenergy, tBodyAccJerkMagiqr, tBodyAccJerkMagentropy, tBodyAccJerkMagarCoeff1, tBodyAccJerkMagarCoeff2, tBodyAccJerkMagarCoeff3, tBodyAccJerkMagarCoeff4, tBodyGyroMagmean, tBodyGyroMagstd, tBodyGyroMagmad, tBodyGyroMagmax, tBodyGyroMagmin, tBodyGyroMagsma, tBodyGyroMagenergy, tBodyGyroMagiqr, tBodyGyroMagentropy, tBodyGyroMagarCoeff1, tBodyGyroMagarCoeff2, tBodyGyroMagarCoeff3, tBodyGyroMagarCoeff4, tBodyGyroJerkMagmean, tBodyGyroJerkMagstd, tBodyGyroJerkMagmad, tBodyGyroJerkMagmax, tBodyGyroJerkMagmin, tBodyGyroJerkMagsma, tBodyGyroJerkMagenergy, tBodyGyroJerkMagiqr, tBodyGyroJerkMagentropy, tBodyGyroJerkMagarCoeff1, tBodyGyroJerkMagarCoeff2, tBodyGyroJerkMagarCoeff3, tBodyGyroJerkMagarCoeff4, fBodyAccmeanX, fBodyAccmeanY, fBodyAccmeanZ, fBodyAccstdX, fBodyAccstdY, fBodyAccstdZ, fBodyAccmadX, fBodyAccmadY, fBodyAccmadZ, fBodyAccmaxX, fBodyAccmaxY, fBodyAccmaxZ, fBodyAccminX, fBodyAccminY, fBodyAccminZ, fBodyAccsma, fBodyAccenergyX, fBodyAccenergyY, fBodyAccenergyZ, fBodyAcciqrX, fBodyAcciqrY, fBodyAcciqrZ, fBodyAccentropyX, fBodyAccentropyY, fBodyAccentropyZ, fBodyAccmaxIndsX, fBodyAccmaxIndsY, fBodyAccmaxIndsZ, fBodyAccmeanFreqX, fBodyAccmeanFreqY, fBodyAccmeanFreqZ, fBodyAccskewnessX, fBodyAcckurtosisX, fBodyAccskewnessY, fBodyAcckurtosisY, fBodyAccskewnessZ, fBodyAcckurtosisZ, fBodyAccbandsEnergy18, fBodyAccbandsEnergy916, fBodyAccbandsEnergy1724, fBodyAccbandsEnergy2532, fBodyAccbandsEnergy3340, fBodyAccbandsEnergy4148, fBodyAccbandsEnergy4956, fBodyAccbandsEnergy5764, fBodyAccbandsEnergy116, fBodyAccbandsEnergy1732, fBodyAccbandsEnergy3348, fBodyAccbandsEnergy4964, fBodyAccbandsEnergy124, fBodyAccbandsEnergy2548, fBodyAccbandsEnergy18n, fBodyAccbandsEnergy916n, fBodyAccbandsEnergy1724n, fBodyAccbandsEnergy2532n, fBodyAccbandsEnergy3340n, fBodyAccbandsEnergy4148n, fBodyAccbandsEnergy4956n, fBodyAccbandsEnergy5764n, fBodyAccbandsEnergy116n, fBodyAccbandsEnergy1732n, fBodyAccbandsEnergy3348n, fBodyAccbandsEnergy4964n, fBodyAccbandsEnergy124n, fBodyAccbandsEnergy2548n, fBodyAccbandsEnergy18nn, fBodyAccbandsEnergy916nn, fBodyAccbandsEnergy1724nn, fBodyAccbandsEnergy2532nn, fBodyAccbandsEnergy3340nn, fBodyAccbandsEnergy4148nn, fBodyAccbandsEnergy4956nn, fBodyAccbandsEnergy5764nn, fBodyAccbandsEnergy116nn, fBodyAccbandsEnergy1732nn, fBodyAccbandsEnergy3348nn, fBodyAccbandsEnergy4964nn, fBodyAccbandsEnergy124nn, fBodyAccbandsEnergy2548nn, fBodyAccJerkmeanX, fBodyAccJerkmeanY, fBodyAccJerkmeanZ, fBodyAccJerkstdX, fBodyAccJerkstdY, fBodyAccJerkstdZ, fBodyAccJerkmadX, fBodyAccJerkmadY, fBodyAccJerkmadZ, fBodyAccJerkmaxX, fBodyAccJerkmaxY, fBodyAccJerkmaxZ, fBodyAccJerkminX, fBodyAccJerkminY, fBodyAccJerkminZ, fBodyAccJerksma, fBodyAccJerkenergyX, fBodyAccJerkenergyY, fBodyAccJerkenergyZ, fBodyAccJerkiqrX, fBodyAccJerkiqrY, fBodyAccJerkiqrZ, fBodyAccJerkentropyX, fBodyAccJerkentropyY, fBodyAccJerkentropyZ, fBodyAccJerkmaxIndsX, fBodyAccJerkmaxIndsY, fBodyAccJerkmaxIndsZ, fBodyAccJerkmeanFreqX, fBodyAccJerkmeanFreqY, fBodyAccJerkmeanFreqZ, fBodyAccJerkskewnessX, fBodyAccJerkkurtosisX, fBodyAccJerkskewnessY, fBodyAccJerkkurtosisY, fBodyAccJerkskewnessZ, fBodyAccJerkkurtosisZ, fBodyAccJerkbandsEnergy18, fBodyAccJerkbandsEnergy916, fBodyAccJerkbandsEnergy1724, fBodyAccJerkbandsEnergy2532, fBodyAccJerkbandsEnergy3340, fBodyAccJerkbandsEnergy4148, fBodyAccJerkbandsEnergy4956, fBodyAccJerkbandsEnergy5764, fBodyAccJerkbandsEnergy116, fBodyAccJerkbandsEnergy1732, fBodyAccJerkbandsEnergy3348, fBodyAccJerkbandsEnergy4964, fBodyAccJerkbandsEnergy124, fBodyAccJerkbandsEnergy2548, fBodyAccJerkbandsEnergy18n, fBodyAccJerkbandsEnergy916n, fBodyAccJerkbandsEnergy1724n, fBodyAccJerkbandsEnergy2532n, fBodyAccJerkbandsEnergy3340n, fBodyAccJerkbandsEnergy4148n, fBodyAccJerkbandsEnergy4956n, fBodyAccJerkbandsEnergy5764n, fBodyAccJerkbandsEnergy116n, fBodyAccJerkbandsEnergy1732n, fBodyAccJerkbandsEnergy3348n, fBodyAccJerkbandsEnergy4964n, fBodyAccJerkbandsEnergy124n, fBodyAccJerkbandsEnergy2548n, fBodyAccJerkbandsEnergy18nn, fBodyAccJerkbandsEnergy916nn, fBodyAccJerkbandsEnergy1724nn, fBodyAccJerkbandsEnergy2532nn, fBodyAccJerkbandsEnergy3340nn, fBodyAccJerkbandsEnergy4148nn, fBodyAccJerkbandsEnergy4956nn, fBodyAccJerkbandsEnergy5764nn, fBodyAccJerkbandsEnergy116nn, fBodyAccJerkbandsEnergy1732nn, fBodyAccJerkbandsEnergy3348nn, fBodyAccJerkbandsEnergy4964nn, fBodyAccJerkbandsEnergy124nn, fBodyAccJerkbandsEnergy2548nn, fBodyGyromeanX, fBodyGyromeanY, fBodyGyromeanZ, fBodyGyrostdX, fBodyGyrostdY, fBodyGyrostdZ, fBodyGyromadX, fBodyGyromadY, fBodyGyromadZ, fBodyGyromaxX, fBodyGyromaxY, fBodyGyromaxZ, fBodyGyrominX, fBodyGyrominY, fBodyGyrominZ, fBodyGyrosma, fBodyGyroenergyX, fBodyGyroenergyY, fBodyGyroenergyZ, fBodyGyroiqrX, fBodyGyroiqrY, fBodyGyroiqrZ, fBodyGyroentropyX, fBodyGyroentropyY, fBodyGyroentropyZ, fBodyGyromaxIndsX, fBodyGyromaxIndsY, fBodyGyromaxIndsZ, fBodyGyromeanFreqX, fBodyGyromeanFreqY, fBodyGyromeanFreqZ, fBodyGyroskewnessX, fBodyGyrokurtosisX, fBodyGyroskewnessY, fBodyGyrokurtosisY, fBodyGyroskewnessZ, fBodyGyrokurtosisZ, fBodyGyrobandsEnergy18, fBodyGyrobandsEnergy916, fBodyGyrobandsEnergy1724, fBodyGyrobandsEnergy2532, fBodyGyrobandsEnergy3340, fBodyGyrobandsEnergy4148, fBodyGyrobandsEnergy4956, fBodyGyrobandsEnergy5764, fBodyGyrobandsEnergy116, fBodyGyrobandsEnergy1732, fBodyGyrobandsEnergy3348, fBodyGyrobandsEnergy4964, fBodyGyrobandsEnergy124, fBodyGyrobandsEnergy2548, fBodyGyrobandsEnergy18n, fBodyGyrobandsEnergy916n, fBodyGyrobandsEnergy1724n, fBodyGyrobandsEnergy2532n, fBodyGyrobandsEnergy3340n, fBodyGyrobandsEnergy4148n, fBodyGyrobandsEnergy4956n, fBodyGyrobandsEnergy5764n, fBodyGyrobandsEnergy116n, fBodyGyrobandsEnergy1732n, fBodyGyrobandsEnergy3348n, fBodyGyrobandsEnergy4964n, fBodyGyrobandsEnergy124n, fBodyGyrobandsEnergy2548n, fBodyGyrobandsEnergy18nn, fBodyGyrobandsEnergy916nn, fBodyGyrobandsEnergy1724nn, fBodyGyrobandsEnergy2532nn, fBodyGyrobandsEnergy3340nn, fBodyGyrobandsEnergy4148nn, fBodyGyrobandsEnergy4956nn, fBodyGyrobandsEnergy5764nn, fBodyGyrobandsEnergy116nn, fBodyGyrobandsEnergy1732nn, fBodyGyrobandsEnergy3348nn, fBodyGyrobandsEnergy4964nn, fBodyGyrobandsEnergy124nn, fBodyGyrobandsEnergy2548nn, fBodyAccMagmean, fBodyAccMagstd, fBodyAccMagmad, fBodyAccMagmax, fBodyAccMagmin, fBodyAccMagsma, fBodyAccMagenergy, fBodyAccMagiqr, fBodyAccMagentropy, fBodyAccMagmaxInds, fBodyAccMagmeanFreq, fBodyAccMagskewness, fBodyAccMagkurtosis, fBodyBodyAccJerkMagmean, fBodyBodyAccJerkMagstd, fBodyBodyAccJerkMagmad, fBodyBodyAccJerkMagmax, fBodyBodyAccJerkMagmin, fBodyBodyAccJerkMagsma, fBodyBodyAccJerkMagenergy, fBodyBodyAccJerkMagiqr, fBodyBodyAccJerkMagentropy, fBodyBodyAccJerkMagmaxInds, fBodyBodyAccJerkMagmeanFreq, fBodyBodyAccJerkMagskewness, fBodyBodyAccJerkMagkurtosis, fBodyBodyGyroMagmean, fBodyBodyGyroMagstd, fBodyBodyGyroMagmad, fBodyBodyGyroMagmax, fBodyBodyGyroMagmin, fBodyBodyGyroMagsma, fBodyBodyGyroMagenergy, fBodyBodyGyroMagiqr, fBodyBodyGyroMagentropy, fBodyBodyGyroMagmaxInds, fBodyBodyGyroMagmeanFreq, fBodyBodyGyroMagskewness, fBodyBodyGyroMagkurtosis, fBodyBodyGyroJerkMagmean, fBodyBodyGyroJerkMagstd, fBodyBodyGyroJerkMagmad, fBodyBodyGyroJerkMagmax, fBodyBodyGyroJerkMagmin, fBodyBodyGyroJerkMagsma, fBodyBodyGyroJerkMagenergy, fBodyBodyGyroJerkMagiqr, fBodyBodyGyroJerkMagentropy, fBodyBodyGyroJerkMagmaxInds, fBodyBodyGyroJerkMagmeanFreq, fBodyBodyGyroJerkMagskewness, fBodyBodyGyroJerkMagkurtosis, angletBodyAccMeangravity, angletBodyAccJerkMeangravityMean, angletBodyGyroMeangravityMean, angletBodyGyroJerkMeangravityMean, angleXgravityMean, angleYgravityMean, angleZgravityMean, label_Id\n",
      "(01-24) 17:33:03 INFO     [divide_data.py:106] Randomly partitioning data, 2060 samples...\n",
      "(01-24) 17:33:03 INFO     [executor.py:128] Data partitioner completes ...\n",
      "(01-24) 17:33:03 INFO     [channel_context.py:20] %%%%%%%%%% Opening grpc connection to 127.0.0.1 %%%%%%%%%%\n",
      "(01-24) 17:33:03 INFO     [executor.py:414] Start monitoring events ...\n",
      "(01-24) 17:33:05 INFO     [client.py:32] Start to train (CLIENT: 15) ...\n",
      "(01-24) 17:33:31 INFO     [client.py:67] Training of (CLIENT: 15) completes, {'clientId': 15, 'moving_loss': 1.6230418133176863, 'trained_size': 1280, 'success': True}\n",
      "(01-24) 17:33:31 INFO     [client.py:32] Start to train (CLIENT: 13) ...\n",
      "(01-24) 17:33:56 INFO     [client.py:67] Training of (CLIENT: 13) completes, {'clientId': 13, 'moving_loss': 1.7864744022488597, 'trained_size': 1280, 'success': True}\n",
      "(01-24) 17:33:56 INFO     [client.py:32] Start to train (CLIENT: 5) ...\n",
      "(01-24) 17:34:21 INFO     [client.py:67] Training of (CLIENT: 5) completes, {'clientId': 5, 'moving_loss': 1.7994901249799882, 'trained_size': 1280, 'success': True}\n",
      "(01-24) 17:34:21 INFO     [client.py:32] Start to train (CLIENT: 24) ...\n",
      "(01-24) 17:34:41 INFO     [client.py:67] Training of (CLIENT: 24) completes, {'clientId': 24, 'moving_loss': 1.8162644668602388, 'trained_size': 1280, 'success': True}\n",
      "(01-24) 17:34:41 INFO     [client.py:32] Start to train (CLIENT: 4) ...\n",
      "(01-24) 17:35:05 INFO     [client.py:67] Training of (CLIENT: 4) completes, {'clientId': 4, 'moving_loss': 1.9840000889953229, 'trained_size': 1280, 'success': True}\n",
      "(01-24) 17:35:07 INFO     [client.py:32] Start to train (CLIENT: 15) ...\n",
      "(01-24) 17:35:32 INFO     [client.py:67] Training of (CLIENT: 15) completes, {'clientId': 15, 'moving_loss': 0.32024946262824233, 'trained_size': 1280, 'success': True}\n",
      "(01-24) 17:35:32 INFO     [client.py:32] Start to train (CLIENT: 13) ...\n",
      "(01-24) 17:35:56 INFO     [client.py:67] Training of (CLIENT: 13) completes, {'clientId': 13, 'moving_loss': 0.2826977508965065, 'trained_size': 1280, 'success': True}\n",
      "(01-24) 17:35:56 INFO     [client.py:32] Start to train (CLIENT: 5) ...\n",
      "(01-24) 17:36:21 INFO     [client.py:67] Training of (CLIENT: 5) completes, {'clientId': 5, 'moving_loss': 0.32913339888295745, 'trained_size': 1280, 'success': True}\n",
      "(01-24) 17:36:21 INFO     [client.py:32] Start to train (CLIENT: 12) ...\n",
      "(01-24) 17:36:46 INFO     [client.py:67] Training of (CLIENT: 12) completes, {'clientId': 12, 'moving_loss': 0.36665676039582473, 'trained_size': 1280, 'success': True}\n",
      "(01-24) 17:36:46 INFO     [client.py:32] Start to train (CLIENT: 16) ...\n",
      "(01-24) 17:37:11 INFO     [client.py:67] Training of (CLIENT: 16) completes, {'clientId': 16, 'moving_loss': 0.25536720845977834, 'trained_size': 1280, 'success': True}\n",
      "(01-24) 17:37:13 INFO     [client.py:32] Start to train (CLIENT: 5) ...\n",
      "(01-24) 17:37:38 INFO     [client.py:67] Training of (CLIENT: 5) completes, {'clientId': 5, 'moving_loss': 0.2962686839294038, 'trained_size': 1280, 'success': True}\n",
      "(01-24) 17:37:38 INFO     [client.py:32] Start to train (CLIENT: 26) ...\n",
      "(01-24) 17:37:56 INFO     [client.py:67] Training of (CLIENT: 26) completes, {'clientId': 26, 'moving_loss': 0.8556288715395204, 'trained_size': 1280, 'success': True}\n",
      "(01-24) 17:37:56 INFO     [client.py:32] Start to train (CLIENT: 2) ...\n",
      "(01-24) 17:38:21 INFO     [client.py:67] Training of (CLIENT: 2) completes, {'clientId': 2, 'moving_loss': 0.5099428438375817, 'trained_size': 1280, 'success': True}\n",
      "(01-24) 17:38:21 INFO     [client.py:32] Start to train (CLIENT: 12) ...\n",
      "(01-24) 17:38:47 INFO     [client.py:67] Training of (CLIENT: 12) completes, {'clientId': 12, 'moving_loss': 0.3532007341702556, 'trained_size': 1280, 'success': True}\n",
      "(01-24) 17:38:47 INFO     [client.py:32] Start to train (CLIENT: 24) ...\n",
      "(01-24) 17:39:07 INFO     [client.py:67] Training of (CLIENT: 24) completes, {'clientId': 24, 'moving_loss': 0.4015367146313541, 'trained_size': 1280, 'success': True}\n"
     ]
    }
   ],
   "source": [
    "import torch\n",
    "import logging\n",
    "import math\n",
    "from torch.autograd import Variable\n",
    "import numpy as np\n",
    "\n",
    "import sys, os\n",
    "\n",
    "import fedscale.cloud.config_parser as parser\n",
    "from fedscale.cloud.execution.client import Client\n",
    "from fedscale.cloud.execution.executor import Executor\n",
    "### On CPU\n",
    "parser.args.use_cuda = \"False\"\n",
    "parser.args.job_name = \"UCI_HAR_demo\"\n",
    "parser.args.data_set = \"UCI_HAR\"\n",
    "parser.args.task = \"har\"\n",
    "parser.args.data_dir = \"../../benchmark/dataset/data/UCI_HAR\"\n",
    "parser.args.data_map_file = \"../../benchmark/dataset/data/UCI_HAR/client_data_mapping/train.csv\"\n",
    "parser.args.device_conf_file = \"../../benchmark/benchmark/dataset/data/device_info/client_device_capacity\"\n",
    "parser.args.device_avail_file = \"../../benchmark/dataset/data/device_info/client_behave_trace\"\n",
    "# parser.args.model_zoo = \"fedscale-zoo\"\n",
    "parser.args.eval_interval = 5\n",
    "parser.args.rounds = 20\n",
    "parser.args.learning_rate = 0.05\n",
    "parser.args.batch_size = 64\n",
    "parser.args.num_classes = 7\n",
    "parser.args.input_dim = 561\n",
    "parser.args.model = \"lr\"\n",
    "parser.args.test_bsz = 64\n",
    "parser.args.num_participants = 5\n",
    "Demo_Executor = Executor(parser.args)\n",
    "Demo_Executor.run()"
   ]
  },
  {
   "cell_type": "code",
   "execution_count": null,
   "id": "096b2191",
   "metadata": {},
   "outputs": [],
   "source": []
  }
 ],
 "metadata": {
  "kernelspec": {
   "display_name": "Python 3",
   "language": "python",
   "name": "python3"
  },
  "language_info": {
   "codemirror_mode": {
    "name": "ipython",
    "version": 3
   },
   "file_extension": ".py",
   "mimetype": "text/x-python",
   "name": "python",
   "nbconvert_exporter": "python",
   "pygments_lexer": "ipython3",
   "version": "3.9.12"
  }
 },
 "nbformat": 4,
 "nbformat_minor": 5
}
